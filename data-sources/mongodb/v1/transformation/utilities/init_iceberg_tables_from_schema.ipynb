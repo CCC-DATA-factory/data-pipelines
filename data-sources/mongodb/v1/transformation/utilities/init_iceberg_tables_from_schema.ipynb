{
 "cells": [
  {
   "cell_type": "code",
   "execution_count": 8,
   "id": "73570103",
   "metadata": {},
   "outputs": [],
   "source": [
    "from trino.dbapi import connect\n",
    "\n",
    "#prod:102.207.250.54:8091\n",
    "# Step 1: Connect to Trino\n",
    "conn = connect(\n",
    "    host='102.207.250.54',\n",
    "    port=8091,\n",
    "    user='admin'\n",
    ")\n",
    "cursor = conn.cursor()"
   ]
  },
  {
   "cell_type": "code",
   "execution_count": 25,
   "id": "134101ed",
   "metadata": {},
   "outputs": [
    {
     "name": "stdout",
     "output_type": "stream",
     "text": [
      "🔎 Available catalogs:\n",
      " - iceberg\n",
      " - system\n",
      "\n",
      "🔎 Schemas in iceberg:\n",
      " - information_schema\n",
      " - processed\n",
      "\n",
      "🔎 Tables in iceberg.default:\n"
     ]
    }
   ],
   "source": [
    "\n",
    "try:\n",
    "    # Step 2: List catalogs\n",
    "    print(\"🔎 Available catalogs:\")\n",
    "    cursor.execute(\"SHOW CATALOGS\")\n",
    "    catalogs = cursor.fetchall()\n",
    "    for cat in catalogs:\n",
    "        print(f\" - {cat[0]}\")\n",
    "\n",
    "\n",
    "\n",
    "    # Step 4: List schemas in iceberg\n",
    "    print(\"\\n🔎 Schemas in iceberg:\")\n",
    "    cursor.execute(\"SHOW SCHEMAS FROM iceberg\")\n",
    "    schemas = cursor.fetchall()\n",
    "    for schema in schemas:\n",
    "        print(f\" - {schema[0]}\")\n",
    "\n",
    "    # Step 5: List tables from default schema\n",
    "    print(\"\\n🔎 Tables in iceberg.default:\")\n",
    "    cursor.execute(\"SHOW TABLES FROM iceberg.processed\")\n",
    "    tables = cursor.fetchall()\n",
    "    for table in tables:\n",
    "        print(f\" - {table[0]}\")\n",
    "\n",
    "except Exception as e:\n",
    "    print(\"❌ Failed to connect or query Trino:\")\n",
    "    print(e)\n"
   ]
  },
  {
   "cell_type": "code",
   "execution_count": 24,
   "id": "85a39eed",
   "metadata": {},
   "outputs": [
    {
     "name": "stdout",
     "output_type": "stream",
     "text": [
      "✅ Schema 'processed' created.\n"
     ]
    }
   ],
   "source": [
    "cursor.execute(\"CREATE SCHEMA iceberg.processed WITH (location = 's3a://asel/processed')\")\n",
    "print(\"✅ Schema 'processed' created.\")"
   ]
  },
  {
   "cell_type": "markdown",
   "id": "613937d3",
   "metadata": {},
   "source": [
    "create processed iceberg tables "
   ]
  },
  {
   "cell_type": "code",
   "execution_count": null,
   "id": "83f653bb",
   "metadata": {},
   "outputs": [],
   "source": []
  },
  {
   "cell_type": "code",
   "execution_count": 26,
   "id": "e56efacf",
   "metadata": {},
   "outputs": [
    {
     "name": "stdout",
     "output_type": "stream",
     "text": [
      "table roles created !\n"
     ]
    }
   ],
   "source": [
    "cursor.execute(\"\"\"CREATE TABLE iceberg.processed.roles (\n",
    "  id VARCHAR,\n",
    "  id_user VARCHAR,\n",
    "  role VARCHAR,\n",
    "  parent_id VARCHAR,\n",
    "  first_seen_date TIMESTAMP(6),\n",
    "  ingestion_date TIMESTAMP(6),\n",
    "  transformation_date TIMESTAMP(6),\n",
    "  source_system VARCHAR,\n",
    "  is_valid BOOLEAN,\n",
    "  comment VARCHAR\n",
    ")\n",
    "WITH (\n",
    "  format = 'PARQUET',\n",
    "  location = 's3://asel/processed/roles'\n",
    ")\n",
    "\"\"\"\n",
    ")\n",
    "print(\"table roles created !\")"
   ]
  },
  {
   "cell_type": "code",
   "execution_count": 4,
   "id": "b9f12e0a",
   "metadata": {},
   "outputs": [
    {
     "name": "stdout",
     "output_type": "stream",
     "text": [
      "=== Verifying  table ===\n",
      "['66eb165bf805b2a6da723661', '642c05c802948a0ce2108cde', '642c34a702948a0ce210bfea', 100.0, datetime.datetime(2024, 9, 18, 18, 5, 15), datetime.datetime(2024, 9, 18, 18, 5, 15), datetime.datetime(2025, 5, 15, 15, 52, 51, 304000), datetime.datetime(2025, 5, 26, 13, 27, 51, 408000), 'mongodb', True, None]\n",
      "['66eb1667f805b2a6da723674', '642c05c802948a0ce2108cde', '642c36bc02948a0ce210c32a', 100.0, datetime.datetime(2024, 9, 18, 18, 5, 27), datetime.datetime(2024, 9, 18, 18, 5, 27), datetime.datetime(2025, 5, 15, 15, 52, 51, 304000), datetime.datetime(2025, 5, 26, 13, 27, 51, 408000), 'mongodb', True, None]\n",
      "['66eb1695e33bc539d87c2516', '642c3e6902948a0ce210cd8d', '642c3ec502948a0ce210cdfb', 100.0, datetime.datetime(2024, 9, 18, 18, 6, 13), datetime.datetime(2024, 9, 18, 18, 6, 13), datetime.datetime(2025, 5, 15, 15, 52, 51, 304000), datetime.datetime(2025, 5, 26, 13, 27, 51, 408000), 'mongodb', True, None]\n",
      "['66eb18d3f805b2a6da723a47', '63f375624e04c60188c762ca', '64e86a72b9858b06eeb92633', 100.0, datetime.datetime(2024, 9, 18, 18, 15, 47), datetime.datetime(2024, 9, 18, 18, 15, 47), datetime.datetime(2025, 5, 15, 15, 52, 51, 304000), datetime.datetime(2025, 5, 26, 13, 27, 51, 408000), 'mongodb', True, None]\n",
      "['66eb1971e33bc539d87c2924', '64ec63c3cc83888fe1297e94', '6492db1ded4306f9def297b7', 100.0, datetime.datetime(2024, 9, 18, 18, 18, 25), datetime.datetime(2024, 9, 18, 18, 18, 25), datetime.datetime(2025, 5, 15, 15, 52, 51, 304000), datetime.datetime(2025, 5, 26, 13, 27, 51, 408000), 'mongodb', True, None]\n",
      "['66eb1be2533c440f40ff6805', '63d02eda382ff90dda7f8f3f', '63da6c82382ff90dda80a9d9', 100.0, datetime.datetime(2024, 9, 18, 18, 28, 50), datetime.datetime(2024, 9, 18, 18, 28, 50), datetime.datetime(2025, 5, 15, 15, 52, 51, 304000), datetime.datetime(2025, 5, 26, 13, 27, 51, 408000), 'mongodb', True, None]\n",
      "['66eb1de6f805b2a6da72421f', '63c97183382ff90dda7f3f14', '63ff0c5093d7fbc65a016dd1', 500.0, datetime.datetime(2024, 9, 18, 18, 37, 26), datetime.datetime(2024, 9, 18, 18, 37, 26), datetime.datetime(2025, 5, 15, 15, 52, 51, 304000), datetime.datetime(2025, 5, 26, 13, 27, 51, 408000), 'mongodb', True, None]\n",
      "['66eb1f5c05a257f9a2568baa', '6401e05d93d7fbc65a0284ba', '64dc98c2fdcf1814901a865d', 100.0, datetime.datetime(2024, 9, 18, 18, 43, 40), datetime.datetime(2024, 9, 18, 18, 43, 40), datetime.datetime(2025, 5, 15, 15, 52, 51, 304000), datetime.datetime(2025, 5, 26, 13, 27, 51, 408000), 'mongodb', True, None]\n",
      "['66eb232305a257f9a25690c8', '650ace9fda161d08d01613e2', '64e4a56ecc83888fe12690e8', 200.0, datetime.datetime(2024, 9, 18, 18, 59, 47), datetime.datetime(2024, 9, 18, 18, 59, 47), datetime.datetime(2025, 5, 15, 15, 52, 51, 304000), datetime.datetime(2025, 5, 26, 13, 27, 51, 408000), 'mongodb', True, None]\n",
      "['66eb23e205a257f9a25691a2', '63ff0c5093d7fbc65a016dd1', '6401e2d193d7fbc65a0285a5', 100.0, datetime.datetime(2024, 9, 18, 19, 2, 58), datetime.datetime(2024, 9, 18, 19, 2, 58), datetime.datetime(2025, 5, 15, 15, 52, 51, 304000), datetime.datetime(2025, 5, 26, 13, 27, 51, 408000), 'mongodb', True, None]\n",
      "['66eb25c9533c440f40ff7548', '6470d26b71c1e2da01fad19f', '6470d2f271c1e2da01fad2bc', 300.0, datetime.datetime(2024, 9, 18, 19, 11, 5), datetime.datetime(2024, 9, 18, 19, 11, 5), datetime.datetime(2025, 5, 15, 15, 52, 51, 304000), datetime.datetime(2025, 5, 26, 13, 27, 51, 408000), 'mongodb', True, None]\n",
      "['66eb292505a257f9a25696a8', '63b4004ba951d03291fd2764', '63c6a044382ff90dda7f2986', 200.0, datetime.datetime(2024, 9, 18, 19, 25, 25), datetime.datetime(2024, 9, 18, 19, 25, 25), datetime.datetime(2025, 5, 15, 15, 52, 51, 304000), datetime.datetime(2025, 5, 26, 13, 27, 51, 408000), 'mongodb', True, None]\n",
      "['66eb2a89f805b2a6da72506d', '664c57e1471e602d25fc9ee0', '663a5f2f2ce2f417b74d7697', 100.0, datetime.datetime(2024, 9, 18, 19, 31, 21), datetime.datetime(2024, 9, 18, 19, 31, 21), datetime.datetime(2025, 5, 15, 15, 52, 51, 304000), datetime.datetime(2025, 5, 26, 13, 27, 51, 408000), 'mongodb', True, None]\n",
      "['66eb2b14533c440f40ff7a53', '66335120dfa132f1dafe050f', '65fdb76061c90b98aec67588', 500.0, datetime.datetime(2024, 9, 18, 19, 33, 40), datetime.datetime(2024, 9, 18, 19, 33, 40), datetime.datetime(2025, 5, 15, 15, 52, 51, 304000), datetime.datetime(2025, 5, 26, 13, 27, 51, 408000), 'mongodb', True, None]\n",
      "['66eb2ba9533c440f40ff7b17', '63f375624e04c60188c762ca', '645cf34f54de07be4349e15b', 100.0, datetime.datetime(2024, 9, 18, 19, 36, 9), datetime.datetime(2024, 9, 18, 19, 36, 9), datetime.datetime(2025, 5, 15, 15, 52, 51, 304000), datetime.datetime(2025, 5, 26, 13, 27, 51, 408000), 'mongodb', True, None]\n",
      "['66eb2c1e0624d71ccef44c00', '63c97183382ff90dda7f3f14', '63cf9501382ff90dda7f77fb', 100.0, datetime.datetime(2024, 9, 18, 19, 38, 6), datetime.datetime(2024, 9, 18, 19, 38, 6), datetime.datetime(2025, 5, 15, 15, 52, 51, 304000), datetime.datetime(2025, 5, 26, 13, 27, 51, 408000), 'mongodb', True, None]\n",
      "['66eb2d34e33bc539d87c41cb', '66cf2d4605a257f9a2482bc3', '641af4c42f20609470e0a573', 200.0, datetime.datetime(2024, 9, 18, 19, 42, 44), datetime.datetime(2024, 9, 18, 19, 42, 44), datetime.datetime(2025, 5, 15, 15, 52, 51, 304000), datetime.datetime(2025, 5, 26, 13, 27, 51, 408000), 'mongodb', True, None]\n",
      "['66eb2febf805b2a6da7255d2', '63b4004ba951d03291fd2764', '6446e1fac1c4665e9e7eb822', 100.0, datetime.datetime(2024, 9, 18, 19, 54, 19), datetime.datetime(2024, 9, 18, 19, 54, 19), datetime.datetime(2025, 5, 15, 15, 52, 51, 304000), datetime.datetime(2025, 5, 26, 13, 27, 51, 408000), 'mongodb', True, None]\n",
      "['66eb31b7e33bc539d87c452b', '63c1beb4382ff90dda7f12e4', '642eac5c1274004e23d80561', 200.0, datetime.datetime(2024, 9, 18, 20, 1, 59), datetime.datetime(2024, 9, 18, 20, 1, 59), datetime.datetime(2025, 5, 15, 15, 52, 51, 304000), datetime.datetime(2025, 5, 26, 13, 27, 51, 408000), 'mongodb', True, None]\n",
      "['66eb39cce33bc539d87c4b44', '6401e05d93d7fbc65a0284ba', '64133441297b27d6218cde77', 300.0, datetime.datetime(2024, 9, 18, 20, 36, 28), datetime.datetime(2024, 9, 18, 20, 36, 28), datetime.datetime(2025, 5, 15, 15, 52, 51, 304000), datetime.datetime(2025, 5, 26, 13, 27, 51, 408000), 'mongodb', True, None]\n",
      "['66eb39fb824db44a5bd8a883', '64cd0914c637035f4ed4948b', '6537b75f499eeec2817c25d1', 50.0, datetime.datetime(2024, 9, 18, 20, 37, 15), datetime.datetime(2024, 9, 18, 20, 37, 15), datetime.datetime(2025, 5, 15, 15, 52, 51, 304000), datetime.datetime(2025, 5, 26, 13, 27, 51, 408000), 'mongodb', True, None]\n",
      "['66eb3a48f805b2a6da725dab', '64be748aa493cdd2ed79a07c', '6480a62a12b30a016d0173a9', 50.0, datetime.datetime(2024, 9, 18, 20, 38, 32), datetime.datetime(2024, 9, 18, 20, 38, 32), datetime.datetime(2025, 5, 15, 15, 52, 51, 304000), datetime.datetime(2025, 5, 26, 13, 27, 51, 408000), 'mongodb', True, None]\n",
      "['66eb3f40e33bc539d87c4e28', '6401e05d93d7fbc65a0284ba', '6627d6591d56e6f748c887d8', 100.0, datetime.datetime(2024, 9, 18, 20, 59, 44), datetime.datetime(2024, 9, 18, 20, 59, 44), datetime.datetime(2025, 5, 15, 15, 52, 51, 304000), datetime.datetime(2025, 5, 26, 13, 27, 51, 408000), 'mongodb', True, None]\n",
      "['66eb463e05a257f9a256a962', '6401e05d93d7fbc65a0284ba', '6666f0c58afb682696b4f156', 200.0, datetime.datetime(2024, 9, 18, 21, 29, 34), datetime.datetime(2024, 9, 18, 21, 29, 34), datetime.datetime(2025, 5, 15, 15, 52, 51, 304000), datetime.datetime(2025, 5, 26, 13, 27, 51, 408000), 'mongodb', True, None]\n",
      "['66eb508d533c440f40ff8d9e', '63b4004ba951d03291fd2764', '644c0b84e13bfbdeb197c0d7', 400.0, datetime.datetime(2024, 9, 18, 22, 13, 33), datetime.datetime(2024, 9, 18, 22, 13, 33), datetime.datetime(2025, 5, 15, 15, 52, 51, 304000), datetime.datetime(2025, 5, 26, 13, 27, 51, 408000), 'mongodb', True, None]\n",
      "['66eb538a0624d71ccef460a0', '64be748aa493cdd2ed79a07c', '64748e1f71c1e2da0100e31e', 200.0, datetime.datetime(2024, 9, 18, 22, 26, 18), datetime.datetime(2024, 9, 18, 22, 26, 18), datetime.datetime(2025, 5, 15, 15, 52, 51, 304000), datetime.datetime(2025, 5, 26, 13, 27, 51, 408000), 'mongodb', True, None]\n"
     ]
    }
   ],
   "source": [
    "print(\"=== Verifying  table ===\")\n",
    "cursor.execute(\"SELECT * FROM iceberg.processed.transactionsssss LIMIT 30\")\n",
    "rows = cursor.fetchall()\n",
    "\n",
    "for row in rows:\n",
    "    print(row)\n"
   ]
  },
  {
   "cell_type": "code",
   "execution_count": 27,
   "id": "e0feef9d",
   "metadata": {},
   "outputs": [
    {
     "name": "stdout",
     "output_type": "stream",
     "text": [
      "table activation created !\n"
     ]
    }
   ],
   "source": [
    "cursor.execute(\"\"\"CREATE TABLE iceberg.processed.activation (\n",
    "  id VARCHAR,\n",
    "  sim_id VARCHAR,\n",
    "  agent_id VARCHAR,\n",
    "  customer_id VARCHAR,\n",
    "  mvno_id VARCHAR,\n",
    "  created_at TIMESTAMP(6),\n",
    "  shop_name VARCHAR,\n",
    "  first_seen_date TIMESTAMP(6),\n",
    "  ingestion_date TIMESTAMP(6),\n",
    "  transformation_date TIMESTAMP(6),\n",
    "  source_system VARCHAR,\n",
    "  is_valid BOOLEAN,\n",
    "  comment VARCHAR\n",
    ")\n",
    "COMMENT 'Activation record table for SIM activations...'\n",
    "WITH (\n",
    "  format = 'PARQUET',\n",
    "  partitioning = ARRAY[\n",
    "    'day(created_at)',  \n",
    "    'shop_name'        \n",
    "  ],\n",
    "  location = 's3://asel/processed/activation'\n",
    ")\n",
    "\"\"\")\n",
    "print(\"table activation created !\")\n"
   ]
  },
  {
   "cell_type": "code",
   "execution_count": 28,
   "id": "f6a71e18",
   "metadata": {},
   "outputs": [
    {
     "name": "stdout",
     "output_type": "stream",
     "text": [
      "table bundle_price_history created !\n"
     ]
    }
   ],
   "source": [
    "cursor.execute(\"\"\"CREATE TABLE iceberg.processed.bundle_price_history (\n",
    "    bundleid VARCHAR ,\n",
    "    price DOUBLE ,\n",
    "    start_date TIMESTAMP(6),\n",
    "    end_date TIMESTAMP(6) ,\n",
    "    first_seen_date TIMESTAMP(6) ,\n",
    "    ingestion_date TIMESTAMP(6) ,\n",
    "    transformation_date TIMESTAMP(6),\n",
    "    source_system VARCHAR ,\n",
    "    is_valid BOOLEAN ,\n",
    "    comment VARCHAR \n",
    "               \n",
    ")\n",
    "COMMENT 'Historical pricing table for bundles, capturing price changes over time using validity periods'\n",
    "WITH (\n",
    "    format = 'PARQUET',\n",
    "    location = 's3://asel/processed/bundle_price_history'\n",
    ")\n",
    "\"\"\")\n",
    "print(\"table bundle_price_history created !\")"
   ]
  },
  {
   "cell_type": "code",
   "execution_count": 29,
   "id": "c1f657d4",
   "metadata": {},
   "outputs": [
    {
     "name": "stdout",
     "output_type": "stream",
     "text": [
      "table bundles created !\n"
     ]
    }
   ],
   "source": [
    "cursor.execute(\"\"\"CREATE TABLE iceberg.processed.bundles (\n",
    "    id VARCHAR ,\n",
    "    name VARCHAR ,\n",
    "    bundleid VARCHAR ,\n",
    "    data_amount_gb DOUBLE,\n",
    "    voice_amount_minutes DOUBLE ,\n",
    "    sms_amount INTEGER ,\n",
    "    validity_days INTEGER ,\n",
    "    created_at TIMESTAMP(6) ,\n",
    "    first_seen_date TIMESTAMP(6) ,\n",
    "    ingestion_date TIMESTAMP(6) ,\n",
    "    transformation_date TIMESTAMP(6),\n",
    "    source_system VARCHAR ,\n",
    "    is_valid BOOLEAN ,\n",
    "    comment VARCHAR \n",
    ")\n",
    "COMMENT 'Table storing metadata and content definitions of asel bundles (data, voice, SMS, validity) to get the price of the bundle Join the bundle_price_history table with bundleid '\n",
    "WITH (\n",
    "    format = 'PARQUET',\n",
    "    location = 's3://asel/processed/bundles'\n",
    ")\n",
    "\"\"\")\n",
    "print(\"table bundles created !\")"
   ]
  },
  {
   "cell_type": "code",
   "execution_count": 30,
   "id": "08e00d4a",
   "metadata": {},
   "outputs": [
    {
     "name": "stdout",
     "output_type": "stream",
     "text": [
      "table customers created !\n"
     ]
    }
   ],
   "source": [
    "cursor.execute(\"\"\"CREATE TABLE iceberg.processed.customers (\n",
    "    id VARCHAR ,\n",
    "    \n",
    "    dob TIMESTAMP(6) ,\n",
    "    pob VARCHAR ,\n",
    "    address VARCHAR ,\n",
    "    \n",
    "    arta_id DOUBLE ,\n",
    "    \n",
    "    cin VARCHAR ,\n",
    "    cin_recto_path VARCHAR ,\n",
    "    cin_verso_path VARCHAR ,\n",
    "    \n",
    "    city VARCHAR ,\n",
    "    \n",
    "    creation_date TIMESTAMP(6) ,\n",
    "    \n",
    "    email VARCHAR ,\n",
    "    first_name VARCHAR ,\n",
    "    gender VARCHAR ,\n",
    "    \n",
    "    issue_date TIMESTAMP(6) ,\n",
    "    \n",
    "    job VARCHAR,\n",
    "    last_name VARCHAR ,\n",
    "    \n",
    "    mvno_id DOUBLE ,\n",
    "    \n",
    "    passport VARCHAR ,\n",
    "    passport_path VARCHAR ,\n",
    "    \n",
    "    postal_code VARCHAR ,\n",
    "    region VARCHAR ,\n",
    "    first_seen_date TIMESTAMP(6) ,\n",
    "    ingestion_date TIMESTAMP(6) ,\n",
    "    transformation_date TIMESTAMP(6) ,\n",
    "    source_system VARCHAR ,\n",
    "    is_valid BOOLEAN,\n",
    "    comment VARCHAR \n",
    ")\n",
    "COMMENT 'Customer master data table containing personal identification and contact details'\n",
    "WITH (\n",
    "    format = 'PARQUET',\n",
    "    location = 's3://asel/processed/customers',\n",
    "    partitioning = ARRAY['bucket(id, 16)']\n",
    ")\n",
    "\"\"\")\n",
    "print(\"table customers created !\")"
   ]
  },
  {
   "cell_type": "code",
   "execution_count": 31,
   "id": "59f02e08",
   "metadata": {},
   "outputs": [
    {
     "name": "stdout",
     "output_type": "stream",
     "text": [
      "table mvno created !\n"
     ]
    }
   ],
   "source": [
    "cursor.execute(\"\"\"CREATE TABLE iceberg.processed.mvnos (\n",
    "    id VARCHAR ,\n",
    "    name VARCHAR ,\n",
    "    first_seen_date TIMESTAMP(6) ,\n",
    "    ingestion_date TIMESTAMP(6) ,\n",
    "    transformation_date TIMESTAMP(6) ,\n",
    "    source_system VARCHAR,\n",
    "    is_valid BOOLEAN ,\n",
    "    comment VARCHAR \n",
    ")\n",
    "COMMENT 'MVNO master data table containing basic information about the mobile virtual network operator'\n",
    "WITH (\n",
    "    format = 'PARQUET',\n",
    "    location = 's3://asel/processed/mvnos'\n",
    ")\n",
    "\"\"\")\n",
    "print(\"table mvno created !\")\n"
   ]
  },
  {
   "cell_type": "code",
   "execution_count": null,
   "id": "2c069ca4",
   "metadata": {},
   "outputs": [],
   "source": [
    "cursor.execute(\"\"\"CREATE TABLE iceberg.processed.paiement (\n",
    "    id VARCHAR ,\n",
    "    commercial_id VARCHAR ,\n",
    "    franchise_id VARCHAR ,\n",
    "    transaction_id VARCHAR ,\n",
    "    amount DOUBLE ,\n",
    "    created_at TIMESTAMP(6),\n",
    "    first_seen_date TIMESTAMP(6) ,\n",
    "    ingestion_date TIMESTAMP(6) ,\n",
    "    transformation_date TIMESTAMP(6) ,\n",
    "    source_system VARCHAR ,\n",
    "    is_valid BOOLEAN ,\n",
    "    comment VARCHAR \n",
    ")\n",
    "COMMENT 'Paiement transaction data containing reference IDs and payment amount'\n",
    "WITH (\n",
    "    format = 'PARQUET',\n",
    "    location = 's3://asel/processed/paiement',\n",
    "    partitioning = ARRAY[\n",
    "    'day(created_at)'\n",
    "  ]\n",
    ")\n",
    "\"\"\")\n",
    "print(\"table paiement created !\")\n"
   ]
  },
  {
   "cell_type": "code",
   "execution_count": 32,
   "id": "b727a7c5",
   "metadata": {},
   "outputs": [
    {
     "name": "stdout",
     "output_type": "stream",
     "text": [
      "table portability created !\n"
     ]
    }
   ],
   "source": [
    "cursor.execute(\"\"\"CREATE TABLE iceberg.processed.portability (\n",
    "    id VARCHAR ,\n",
    "    sim_id VARCHAR,\n",
    "    created_at TIMESTAMP(6) ,\n",
    "    agent_id VARCHAR ,\n",
    "    old_number VARCHAR ,\n",
    "    code_rio VARCHAR ,\n",
    "    current_operator VARCHAR ,\n",
    "    customer_id VARCHAR ,\n",
    "    mvno_id VARCHAR ,\n",
    "    first_seen_date TIMESTAMP(6),\n",
    "    ingestion_date TIMESTAMP(6) ,\n",
    "    transformation_date TIMESTAMP(6) ,\n",
    "    source_system VARCHAR,\n",
    "    is_valid BOOLEAN ,\n",
    "    comment VARCHAR \n",
    ")\n",
    "COMMENT 'Portability request data containing SIM, customer, and operator details'\n",
    "WITH (\n",
    "    format = 'PARQUET',\n",
    "    location = 's3://asel/processed/portability',\n",
    "    partitioning = ARRAY[\n",
    "    'day(created_at)'\n",
    "  ]\n",
    ")\n",
    "\"\"\")\n",
    "print(\"table portability created !\")\n"
   ]
  },
  {
   "cell_type": "code",
   "execution_count": 33,
   "id": "b45c737f",
   "metadata": {},
   "outputs": [
    {
     "name": "stdout",
     "output_type": "stream",
     "text": [
      "table saller created !\n"
     ]
    }
   ],
   "source": [
    "cursor.execute(\"\"\"CREATE TABLE iceberg.processed.sallers (\n",
    "    id VARCHAR , \n",
    "    name VARCHAR ,\n",
    "    role VARCHAR ,\n",
    "    parent_id VARCHAR ,\n",
    "    shop_name VARCHAR ,\n",
    "    joined_at TIMESTAMP(6) ,\n",
    "    first_seen_date TIMESTAMP(6) ,\n",
    "    ingestion_date TIMESTAMP(6) ,\n",
    "    transformation_date TIMESTAMP(6) ,\n",
    "    source_system VARCHAR ,\n",
    "    is_valid BOOLEAN ,\n",
    "    comment VARCHAR \n",
    ")\n",
    "COMMENT 'Saller master data table containing commercial agent identity, role, and affiliation'\n",
    "WITH (\n",
    "    format = 'PARQUET',\n",
    "    location = 's3://asel/processed/sallers'\n",
    ")\n",
    "\"\"\")\n",
    "print(\"table saller created !\")\n"
   ]
  },
  {
   "cell_type": "code",
   "execution_count": null,
   "id": "43117da5",
   "metadata": {},
   "outputs": [],
   "source": [
    "cursor.execute(\"\"\"CREATE TABLE iceberg.processed.shops (\n",
    "    id VARCHAR ,\n",
    "    \n",
    "    name VARCHAR ,\n",
    "    owner VARCHAR ,\n",
    "    reseller_id VARCHAR ,\n",
    "    \n",
    "    latitude DOUBLE ,\n",
    "    longitude DOUBLE ,\n",
    "    \n",
    "    adresse VARCHAR ,\n",
    "    created_at VARCHAR ,\n",
    "\n",
    "    phone VARCHAR ,\n",
    "    gouvernorat VARCHAR ,\n",
    "    status VARCHAR ,\n",
    "    first_seen_date TIMESTAMP(6),\n",
    "    ingestion_date TIMESTAMP(6) ,\n",
    "    transformation_date TIMESTAMP(6) ,\n",
    "    source_system VARCHAR ,\n",
    "    is_valid BOOLEAN,\n",
    "    comment VARCHAR \n",
    ")\n",
    "COMMENT 'Shop master data containing location, ownership, and identification details'\n",
    "WITH (\n",
    "    format = 'PARQUET',\n",
    "    location = 's3://asel/processed/shops'\n",
    ")\n",
    "\"\"\")\n",
    "print(\"table shoprecord created !\")\n"
   ]
  },
  {
   "cell_type": "code",
   "execution_count": 34,
   "id": "f861241a",
   "metadata": {},
   "outputs": [
    {
     "name": "stdout",
     "output_type": "stream",
     "text": [
      "table sim created !\n"
     ]
    }
   ],
   "source": [
    "cursor.execute(\"\"\"CREATE TABLE iceberg.processed.sims (\n",
    "    id VARCHAR ,\n",
    "    iccid  VARCHAR ,\n",
    "    sn VARCHAR ,\n",
    "    msisdn  VARCHAR ,\n",
    "    imsi  VARCHAR ,\n",
    "    mvno_id VARCHAR ,\n",
    "    activation_date TIMESTAMP(6) ,\n",
    "    customer_id VARCHAR ,          \n",
    "    first_seen_date TIMESTAMP(6),\n",
    "    ingestion_date TIMESTAMP(6),\n",
    "    transformation_date TIMESTAMP(6),\n",
    "    source_system VARCHAR,\n",
    "    is_valid BOOLEAN ,\n",
    "    comment VARCHAR \n",
    ")\n",
    "COMMENT 'SIM card master data containing identifiers, activation info, and associations'\n",
    "WITH (\n",
    "    format = 'PARQUET',\n",
    "    location = 's3://asel/processed/sims',\n",
    "    partitioning = ARRAY['bucket(id, 16)','month(activation_date)']\n",
    ")\n",
    "\"\"\")\n",
    "print(\"table sim created !\")\n"
   ]
  },
  {
   "cell_type": "code",
   "execution_count": 35,
   "id": "d6525578",
   "metadata": {},
   "outputs": [
    {
     "name": "stdout",
     "output_type": "stream",
     "text": [
      "table topupbundles created !\n"
     ]
    }
   ],
   "source": [
    "cursor.execute(\"\"\"CREATE TABLE iceberg.processed.topupbundles (\n",
    "    id VARCHAR  ,\n",
    "    \n",
    "    retailer_id VARCHAR ,\n",
    "    sim_id VARCHAR ,\n",
    "    bundle_id VARCHAR ,\n",
    "    \n",
    "    shop_name VARCHAR ,\n",
    "    mvno_id VARCHAR ,\n",
    "    \n",
    "    created_at TIMESTAMP(6) ,\n",
    "    first_seen_date TIMESTAMP(6) ,\n",
    "    ingestion_date TIMESTAMP(6) ,\n",
    "    transformation_date TIMESTAMP(6) ,\n",
    "    source_system VARCHAR ,\n",
    "    is_valid BOOLEAN ,\n",
    "    comment VARCHAR \n",
    ")\n",
    "COMMENT 'Top-up bundle data including retailer, SIM, and bundle associations'\n",
    "WITH (\n",
    "    format = 'PARQUET',\n",
    "    location = 's3://asel/processed/topupbundles',\n",
    "    partitioning = ARRAY[\n",
    "    'day(created_at)',\n",
    "    'shop_name'\n",
    "  ]\n",
    ")\n",
    "\"\"\")\n",
    "print(\"table topupbundles created !\")\n"
   ]
  },
  {
   "cell_type": "code",
   "execution_count": 39,
   "id": "d5907b5c",
   "metadata": {},
   "outputs": [
    {
     "name": "stdout",
     "output_type": "stream",
     "text": [
      "table topuplights created !\n"
     ]
    }
   ],
   "source": [
    "cursor.execute(\"\"\"CREATE TABLE iceberg.processed.topuplights (\n",
    "    id VARCHAR ,\n",
    "    \n",
    "    retailer_id VARCHAR ,\n",
    "    sim_id VARCHAR ,\n",
    "    shop_name VARCHAR,\n",
    "    mvno_id VARCHAR ,\n",
    "    \n",
    "    created_at TIMESTAMP(6) ,\n",
    "    amount DOUBLE  ,\n",
    "    first_seen_date TIMESTAMP(6),\n",
    "    ingestion_date TIMESTAMP(6) ,\n",
    "    transformation_date TIMESTAMP(6) ,\n",
    "    source_system VARCHAR ,\n",
    "    is_valid BOOLEAN,\n",
    "    comment VARCHAR \n",
    ")\n",
    "COMMENT 'Top-up light data including retailer, SIM, amount, and shop information'\n",
    "WITH (\n",
    "    format = 'PARQUET',\n",
    "    location = 's3://asel/processed/topuplights',\n",
    "    partitioning = ARRAY[\n",
    "    'day(created_at)',\n",
    "    'shop_name']\n",
    ")\n",
    "\"\"\")\n",
    "print(\"table topuplights created !\")\n"
   ]
  },
  {
   "cell_type": "code",
   "execution_count": 42,
   "id": "1b95da7a",
   "metadata": {},
   "outputs": [
    {
     "name": "stdout",
     "output_type": "stream",
     "text": [
      "table transactions created !\n"
     ]
    }
   ],
   "source": [
    "cursor.execute(\"\"\"CREATE TABLE iceberg.processed.transactions (\n",
    "    id VARCHAR ,\n",
    "    sender_id VARCHAR ,\n",
    "    recipient_id VARCHAR,\n",
    "    transaction_amount DOUBLE ,\n",
    "    created_at TIMESTAMP(3) ,\n",
    "    first_seen_date TIMESTAMP(3)  ,\n",
    "    ingestion_date TIMESTAMP(3)  ,\n",
    "    transformation_date TIMESTAMP(3) ,\n",
    "    source_system VARCHAR ,\n",
    "    is_valid BOOLEAN  ,\n",
    "    comment VARCHAR \n",
    ")\n",
    "COMMENT 'Transaction data including sender, recipient, amount, and timestamp'\n",
    "WITH (\n",
    "    format = 'PARQUET',\n",
    "    location = 's3://asel/processed/transactions',\n",
    "    partitioning = ARRAY['day(created_at)']\n",
    ")\n",
    "\"\"\")\n",
    "print(\"table transactions created !\")\n"
   ]
  },
  {
   "cell_type": "code",
   "execution_count": 41,
   "id": "04074b23",
   "metadata": {},
   "outputs": [
    {
     "name": "stdout",
     "output_type": "stream",
     "text": [
      "table processeduser created !\n"
     ]
    }
   ],
   "source": [
    "cursor.execute(\"\"\"CREATE TABLE iceberg.processed.users (\n",
    "    id VARCHAR ,\n",
    "    name VARCHAR,\n",
    "    joined_at TIMESTAMP(6) ,\n",
    "    first_seen_date TIMESTAMP(6),\n",
    "    ingestion_date TIMESTAMP(6) ,\n",
    "    transformation_date TIMESTAMP(6) ,\n",
    "    source_system VARCHAR,\n",
    "    is_valid BOOLEAN ,\n",
    "    comment VARCHAR \n",
    ")\n",
    "COMMENT 'Processed user data including identity and join timestamp'\n",
    "WITH (\n",
    "    format = 'PARQUET',\n",
    "    location = 's3://asel/processed/users'\n",
    ")\n",
    "\"\"\")\n",
    "print(\"table processeduser created !\")\n"
   ]
  },
  {
   "cell_type": "markdown",
   "id": "8243702a",
   "metadata": {},
   "source": [
    "now the final steps to processed zone will be finilised "
   ]
  },
  {
   "cell_type": "code",
   "execution_count": null,
   "id": "f04d48f3",
   "metadata": {},
   "outputs": [],
   "source": [
    "cursor.execute(\"\"\"INSERT INTO processed.sallers (id, name, role, parent_id, shop_name, joined_at)\n",
    "SELECT\n",
    "    r.id,         \n",
    "    u.name,       \n",
    "    r.role,        \n",
    "    r.parent_id,  \n",
    "    u.shop_name,  \n",
    "    u.joined_at    \n",
    "FROM\n",
    "    processed.users u\n",
    "JOIN\n",
    "    processed.roles r\n",
    "    ON u.id = r.id_user\n",
    "WHERE\n",
    "    r.id IS NOT NULL\n",
    "    AND u.id IS NOT NULL\n",
    "    AND r.id NOT IN (\n",
    "        SELECT id FROM processed.sallers\n",
    "    );\n",
    "\"\"\")\n",
    "print(\"alimentation_applied\")"
   ]
  },
  {
   "cell_type": "code",
   "execution_count": null,
   "id": "633712b0",
   "metadata": {},
   "outputs": [],
   "source": [
    "cursor.execute(\"\"\"CREATE TABLE iceberg.processed.sallers_updated\n",
    "WITH (\n",
    "    format = 'PARQUET',\n",
    "    location = 's3://asel/processed/sallers_updated'\n",
    ")\n",
    "AS\n",
    "WITH RECURSIVE ShopNameLookup AS (\n",
    "    SELECT id, parent_id, shop_name, id AS original_id\n",
    "    FROM iceberg.processed.sallers\n",
    "    WHERE shop_name IS NULL\n",
    "\n",
    "    UNION ALL\n",
    "\n",
    "    SELECT p.id, p.parent_id, p.shop_name, sl.original_id\n",
    "    FROM ShopNameLookup sl\n",
    "    JOIN iceberg.processed.sallers p ON sl.parent_id = p.id\n",
    "    WHERE sl.shop_name IS NULL\n",
    "),\n",
    "InheritedShopNames AS (\n",
    "    SELECT original_id, MAX(shop_name) AS inherited_shop_name\n",
    "    FROM ShopNameLookup\n",
    "    GROUP BY original_id\n",
    ")\n",
    "SELECT\n",
    "    s.id,\n",
    "    s.name,\n",
    "    s.role,\n",
    "    s.parent_id,\n",
    "    COALESCE(s.shop_name, i.inherited_shop_name) AS shop_name,\n",
    "    s.joined_at,\n",
    "    s.first_seen_date,\n",
    "    s.ingestion_date,\n",
    "    s.transformation_date,\n",
    "    s.source_system,\n",
    "    s.is_valid,\n",
    "    s.comment\n",
    "FROM iceberg.processed.sallers s\n",
    "LEFT JOIN InheritedShopNames i ON s.id = i.original_id;\n",
    "\n",
    "\"\"\")\n",
    "print(\"table created\")"
   ]
  }
 ],
 "metadata": {
  "kernelspec": {
   "display_name": "Python 3",
   "language": "python",
   "name": "python3"
  },
  "language_info": {
   "codemirror_mode": {
    "name": "ipython",
    "version": 3
   },
   "file_extension": ".py",
   "mimetype": "text/x-python",
   "name": "python",
   "nbconvert_exporter": "python",
   "pygments_lexer": "ipython3",
   "version": "3.11.3"
  }
 },
 "nbformat": 4,
 "nbformat_minor": 5
}
