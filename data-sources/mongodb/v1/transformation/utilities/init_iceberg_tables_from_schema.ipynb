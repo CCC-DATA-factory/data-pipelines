{
 "cells": [
  {
   "cell_type": "code",
   "execution_count": 1,
   "id": "73570103",
   "metadata": {},
   "outputs": [],
   "source": [
    "from trino.dbapi import connect\n",
    "\n",
    "\n",
    "# Step 1: Connect to Trino\n",
    "conn = connect(\n",
    "    host='localhost',\n",
    "    port=8080,\n",
    "    user='admin'\n",
    ")\n",
    "cursor = conn.cursor()"
   ]
  },
  {
   "cell_type": "markdown",
   "id": "613937d3",
   "metadata": {},
   "source": [
    "create processed iceberg tables "
   ]
  },
  {
   "cell_type": "code",
   "execution_count": 4,
   "id": "e56efacf",
   "metadata": {},
   "outputs": [
    {
     "name": "stdout",
     "output_type": "stream",
     "text": [
      "table roles created !\n"
     ]
    }
   ],
   "source": [
    "cursor.execute(\"\"\"CREATE TABLE iceberg.processed.roles (\n",
    "  id                    VARCHAR,\n",
    "  id_user               VARCHAR,\n",
    "  role                  VARCHAR,\n",
    "  parent_id             VARCHAR,         \n",
    "  first_seen_date       TIMESTAMP(6),    \n",
    "  ingestion_date        TIMESTAMP(6),    \n",
    "  transformation_date   TIMESTAMP(6),    \n",
    "  source_system         VARCHAR          \n",
    ")\n",
    "WITH (\n",
    "  format = 'PARQUET', \n",
    "  location = 's3://asel/processed/roles'   \n",
    "  \n",
    ")\"\"\"\n",
    ")\n",
    "print(\"table roles created !\")"
   ]
  },
  {
   "cell_type": "code",
   "execution_count": null,
   "id": "b9f12e0a",
   "metadata": {},
   "outputs": [],
   "source": [
    "print(\"=== Verifying  table ===\")\n",
    "cursor.execute(\"SELECT * FROM iceberg.processed.roles LIMIT 30\")\n",
    "rows = cursor.fetchall()\n",
    "\n",
    "for row in rows:\n",
    "    print(row)\n"
   ]
  },
  {
   "cell_type": "code",
   "execution_count": null,
   "id": "e0feef9d",
   "metadata": {},
   "outputs": [
    {
     "name": "stdout",
     "output_type": "stream",
     "text": [
      "table activation created !\n"
     ]
    }
   ],
   "source": [
    "cursor.execute(\"\"\"CREATE TABLE iceberg.processed.activation (\n",
    "  id                  VARCHAR COMMENT 'Unique activation record identifier',\n",
    "  sim_id              VARCHAR COMMENT 'SIM card unique identifier',\n",
    "  agent_id            VARCHAR COMMENT 'Identifier of the agent who processed the activation',\n",
    "  customer_id         VARCHAR COMMENT 'Identifier of the customer who activated the SIM',\n",
    "  mvno_id             VARCHAR COMMENT 'Mobile Virtual Network Operator identifier',\n",
    "  createdAt           TIMESTAMP(6) COMMENT 'Activation timestamp (millisecond precision)',\n",
    "  shopName            VARCHAR COMMENT 'Name of the retail location where activation occurred',\n",
    "  first_seen_date     TIMESTAMP(6) COMMENT 'Date when the activation was first seen in the data source',\n",
    "  ingestion_date      TIMESTAMP(6) COMMENT 'Date when the activation was ingested into the data lake',\n",
    "  transformation_date TIMESTAMP(6) COMMENT 'Date when the activation was transformed in the lakehouse',\n",
    "  source_system       VARCHAR COMMENT 'Source system from which this activation originated'\n",
    ")\n",
    "COMMENT 'Activation record table for SIM activations, with linkage to customers, agents, and MVNOs'\n",
    "WITH (\n",
    "  format = 'PARQUET',\n",
    "  partitioning = ARRAY[\n",
    "    'year(createdAt)',\n",
    "    'month(createdAt)',\n",
    "    'day(createdAt)',\n",
    "    'identity(shopName)'\n",
    "  ],\n",
    "  location = 's3://asel/processed/activation'\n",
    ")\n",
    "\"\"\"\n",
    ")\n",
    "print(\"table activation created !\")\n",
    "\n"
   ]
  },
  {
   "cell_type": "code",
   "execution_count": 8,
   "id": "f6a71e18",
   "metadata": {},
   "outputs": [
    {
     "name": "stdout",
     "output_type": "stream",
     "text": [
      "table bundle_price_history created !\n"
     ]
    }
   ],
   "source": [
    "cursor.execute(\"\"\"CREATE TABLE iceberg.processed.bundle_price_history (\n",
    "    bundleid VARCHAR COMMENT 'Unique identifier of the bundle',\n",
    "    price DOUBLE COMMENT 'Price of the bundle during the specified time range',\n",
    "    start_date TIMESTAMP(6) COMMENT 'Start of the time range during which this price was valid (used for historical lookups)',\n",
    "    end_date TIMESTAMP(6) COMMENT 'End of the time range during which this price was valid (used for historical lookups)',\n",
    "    first_seen_date       TIMESTAMP(6) COMMENT 'the date where the bundle price is present in the data source ',    \n",
    "    ingestion_date        TIMESTAMP(6) COMMENT 'the date where the bundle price is ingested to the data lake ',    \n",
    "    transformation_date   TIMESTAMP(6) COMMENT 'the date where the bundle price is transformed to the lakehouse' ,    \n",
    "    source_system         VARCHAR  COMMENT 'the source name where this bundle price cames from' \n",
    "               \n",
    ")\n",
    "COMMENT 'Historical pricing table for bundles, capturing price changes over time using validity periods'\n",
    "WITH (\n",
    "    format = 'PARQUET',\n",
    "    location = 's3://asel/processed/bundle_price_history'\n",
    ")\n",
    "\"\"\")\n",
    "print(\"table bundle_price_history created !\")"
   ]
  },
  {
   "cell_type": "code",
   "execution_count": 9,
   "id": "c1f657d4",
   "metadata": {},
   "outputs": [
    {
     "name": "stdout",
     "output_type": "stream",
     "text": [
      "table bundles created !\n"
     ]
    }
   ],
   "source": [
    "cursor.execute(\"\"\"CREATE TABLE iceberg.processed.bundles (\n",
    "    id VARCHAR COMMENT 'Unique internal identifier for the record',\n",
    "    name VARCHAR COMMENT 'Human-readable name of the bundle',\n",
    "    bundleid VARCHAR COMMENT 'Business identifier for the bundle (shared across different versions or prices)',\n",
    "    data_amount_gb DOUBLE COMMENT 'Amount of data included in the bundle, in gigabytes',\n",
    "    voice_amount_minutes DOUBLE COMMENT 'Amount of voice call minutes included in the bundle',\n",
    "    sms_amount INTEGER COMMENT 'Number of SMS messages included in the bundle',\n",
    "    validity_days INTEGER COMMENT 'Number of days the bundle remains active once purchased',\n",
    "    createdat TIMESTAMP(6) COMMENT 'Timestamp when the bundle definition was created (system ingestion or publishing date)',\n",
    "    first_seen_date       TIMESTAMP(6) COMMENT 'the date where the bundle  is present in the data source ',    \n",
    "    ingestion_date        TIMESTAMP(6) COMMENT 'the date where the bundle  is ingested to the data lake ',    \n",
    "    transformation_date   TIMESTAMP(6) COMMENT 'the date where the bundle  is transformed to the lakehouse' ,    \n",
    "    source_system         VARCHAR  COMMENT 'the source name where this bundle  cames from' \n",
    ")\n",
    "COMMENT 'Table storing metadata and content definitions of asel bundles (data, voice, SMS, validity) to get the price of the bundle Join the bundle_price_history table with bundleid '\n",
    "WITH (\n",
    "    format = 'PARQUET',\n",
    "    location = 's3://asel/processed/bundles'\n",
    ")\n",
    "\"\"\")\n",
    "print(\"table bundles created !\")"
   ]
  },
  {
   "cell_type": "code",
   "execution_count": 15,
   "id": "08e00d4a",
   "metadata": {},
   "outputs": [
    {
     "name": "stdout",
     "output_type": "stream",
     "text": [
      "table customers created !\n"
     ]
    }
   ],
   "source": [
    "cursor.execute(\"\"\"CREATE TABLE iceberg.processed.customers (\n",
    "    id VARCHAR NOT NULL COMMENT 'Required unique identifier for the customer record',\n",
    "    \n",
    "    DOB TIMESTAMP(6) COMMENT 'Date of birth of the customer (nullable)',\n",
    "    POB VARCHAR COMMENT 'Place of birth of the customer (nullable)',\n",
    "    address VARCHAR COMMENT 'Postal address of the customer (nullable)',\n",
    "    \n",
    "    arta_id DOUBLE COMMENT 'Internal ARTA system identifier (nullable)',\n",
    "    \n",
    "    cin VARCHAR COMMENT 'National identity card number (nullable)',\n",
    "    cin_recto_path VARCHAR COMMENT 'File path to front side scan of the CIN (nullable)',\n",
    "    cin_verso_path VARCHAR COMMENT 'File path to back side scan of the CIN (nullable)',\n",
    "    \n",
    "    city VARCHAR COMMENT 'City of residence (nullable)',\n",
    "    \n",
    "    creation_date TIMESTAMP(6) COMMENT 'Timestamp when the customer record was created (nullable)',\n",
    "    \n",
    "    email VARCHAR COMMENT 'Customer email address (nullable)',\n",
    "    first_name VARCHAR COMMENT 'Customer first name (nullable)',\n",
    "    gender VARCHAR COMMENT 'Gender of the customer (nullable) male or female',\n",
    "    \n",
    "    issue_date TIMESTAMP(6) COMMENT 'Timestamp of identity document issuance (nullable)',\n",
    "    \n",
    "    job VARCHAR COMMENT 'Occupation or job title of the customer (nullable)',\n",
    "    last_name VARCHAR COMMENT 'Customer last name (nullable)',\n",
    "    \n",
    "    mvno_id DOUBLE COMMENT 'ID of the MVNO (Mobile Virtual Network Operator) associated with the customer (nullable)',\n",
    "    \n",
    "    passport VARCHAR COMMENT 'Passport number (nullable)',\n",
    "    passport_path VARCHAR COMMENT 'File path to scanned passport copy (nullable)',\n",
    "    \n",
    "    postal_code VARCHAR COMMENT 'Postal or ZIP code (nullable)',\n",
    "    region VARCHAR COMMENT 'Administrative region of residence (nullable)',\n",
    "    first_seen_date       TIMESTAMP(6) COMMENT 'the date where the customer  is present in the data source ',    \n",
    "    ingestion_date        TIMESTAMP(6) COMMENT 'the date where the customer  is ingested to the data lake ',    \n",
    "    transformation_date   TIMESTAMP(6) COMMENT 'the date where the customer  is transformed to the lakehouse' ,    \n",
    "    source_system         VARCHAR  COMMENT 'the source name where this customer  cames from' \n",
    ")\n",
    "COMMENT 'Customer master data table containing personal identification and contact details'\n",
    "WITH (\n",
    "    format = 'PARQUET',\n",
    "    location = 's3://asel/processed/customers',\n",
    "    partitioning = ARRAY['bucket(id, 16)']\n",
    ")\n",
    "\"\"\")\n",
    "print(\"table customers created !\")"
   ]
  }
 ],
 "metadata": {
  "kernelspec": {
   "display_name": "Python 3",
   "language": "python",
   "name": "python3"
  },
  "language_info": {
   "codemirror_mode": {
    "name": "ipython",
    "version": 3
   },
   "file_extension": ".py",
   "mimetype": "text/x-python",
   "name": "python",
   "nbconvert_exporter": "python",
   "pygments_lexer": "ipython3",
   "version": "3.11.3"
  }
 },
 "nbformat": 4,
 "nbformat_minor": 5
}
